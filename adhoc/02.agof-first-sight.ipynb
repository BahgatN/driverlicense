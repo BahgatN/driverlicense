{
 "cells": [
  {
   "cell_type": "code",
   "execution_count": 30,
   "metadata": {},
   "outputs": [],
   "source": [
    "from mra.helper import *\n",
    "import pandas as pd"
   ]
  },
  {
   "cell_type": "code",
   "execution_count": 8,
   "metadata": {},
   "outputs": [],
   "source": [
    "coll = local.driverlicense.xlsx"
   ]
  },
  {
   "cell_type": "code",
   "execution_count": 29,
   "metadata": {},
   "outputs": [
    {
     "data": {
      "text/plain": [
       "['Ströer Digital',\n",
       " 'G+J e|MS',\n",
       " 'Media Impact',\n",
       " 'BurdaForward',\n",
       " 'United Internet Media',\n",
       " 'eBay Advertising Group Deutschland',\n",
       " 'iq digital',\n",
       " 'SevenOne Media',\n",
       " 'SPIEGEL MEDIA',\n",
       " 'Scout24',\n",
       " 'BCN - Burda Community Network',\n",
       " 'YOC',\n",
       " 'madvertise Media',\n",
       " 'VICE Digital',\n",
       " 'CondeNast',\n",
       " 'Web Media Publishing',\n",
       " 'teltarif.de Onlineverlag',\n",
       " 'onvista media sales',\n",
       " 'QUARTER MEDIA',\n",
       " 'MAIRDUMONT MEDIA',\n",
       " 'vwd netsolutions',\n",
       " 'STYLIGHT',\n",
       " 'Deutscher Fachverlag',\n",
       " 'Ad Alliance',\n",
       " 'Yieldlove',\n",
       " 'Urban Media',\n",
       " 'CommonMedia',\n",
       " 'Alfons W. Gentner Verlag',\n",
       " 'gutefrage.net']"
      ]
     },
     "execution_count": 29,
     "metadata": {},
     "output_type": "execute_result"
    }
   ],
   "source": [
    "coll.distinct(\"Titel\", {\"Grundgesamtheit\": \"10 Jahre und älter\", \"Medientyp\": \"Mobile Vermarkterreichweite\"})"
   ]
  },
  {
   "cell_type": "code",
   "execution_count": 113,
   "metadata": {},
   "outputs": [],
   "source": [
    "cur = coll.find({\"Grundgesamtheit\": \"10 Jahre und älter\", \"Medientyp\": \"Digitales Gesamtangebot\"})\n",
    "data = list(cur)"
   ]
  },
  {
   "cell_type": "code",
   "execution_count": 114,
   "metadata": {},
   "outputs": [],
   "source": [
    "df = pd.DataFrame(data)"
   ]
  },
  {
   "cell_type": "code",
   "execution_count": 115,
   "metadata": {},
   "outputs": [
    {
     "data": {
      "text/html": [
       "<div>\n",
       "<style scoped>\n",
       "    .dataframe tbody tr th:only-of-type {\n",
       "        vertical-align: middle;\n",
       "    }\n",
       "\n",
       "    .dataframe tbody tr th {\n",
       "        vertical-align: top;\n",
       "    }\n",
       "\n",
       "    .dataframe thead th {\n",
       "        text-align: right;\n",
       "    }\n",
       "</style>\n",
       "<table border=\"1\" class=\"dataframe\">\n",
       "  <thead>\n",
       "    <tr style=\"text-align: right;\">\n",
       "      <th></th>\n",
       "      <th>Analyse</th>\n",
       "      <th>Grundgesamtheit</th>\n",
       "      <th>Kontakte  Mio</th>\n",
       "      <th>Kontakte Mio</th>\n",
       "      <th>Medientyp</th>\n",
       "      <th>Studien- teil</th>\n",
       "      <th>Studienteil</th>\n",
       "      <th>Titel</th>\n",
       "      <th>Ungew Fälle  auf Basis  ZG/Vorfilter</th>\n",
       "      <th>Ungew Fälle auf Basis Gesamt 10+</th>\n",
       "      <th>...</th>\n",
       "      <th>Unique User  %</th>\n",
       "      <th>Unique User  Mio</th>\n",
       "      <th>Unique User %</th>\n",
       "      <th>Unique User Mio</th>\n",
       "      <th>Vorfilter</th>\n",
       "      <th>Zeitraum</th>\n",
       "      <th>Zielgruppe</th>\n",
       "      <th>_id</th>\n",
       "      <th>_job_id</th>\n",
       "      <th>_src</th>\n",
       "    </tr>\n",
       "  </thead>\n",
       "  <tbody>\n",
       "    <tr>\n",
       "      <td>0</td>\n",
       "      <td>daily digital facts 15.08.2017 / Rangreihe</td>\n",
       "      <td>10 Jahre und älter</td>\n",
       "      <td>NaN</td>\n",
       "      <td>1463.77</td>\n",
       "      <td>Digitales Gesamtangebot</td>\n",
       "      <td>df</td>\n",
       "      <td>NaN</td>\n",
       "      <td>T Online</td>\n",
       "      <td>NaN</td>\n",
       "      <td>68099</td>\n",
       "      <td>...</td>\n",
       "      <td>NaN</td>\n",
       "      <td>NaN</td>\n",
       "      <td>48.1</td>\n",
       "      <td>28.15</td>\n",
       "      <td>Nutzer mobiler und/oder stationärer Angebote (...</td>\n",
       "      <td>April 2017</td>\n",
       "      <td>Gesamt</td>\n",
       "      <td>5d91d628b076fdd7ee315043</td>\n",
       "      <td>5d91d627b076fdd7ee315039</td>\n",
       "      <td>ddf_April-Juli_2017_Angebote_Ranking_Digital.xlsx</td>\n",
       "    </tr>\n",
       "    <tr>\n",
       "      <td>1</td>\n",
       "      <td>daily digital facts 15.08.2017 / Rangreihe</td>\n",
       "      <td>10 Jahre und älter</td>\n",
       "      <td>NaN</td>\n",
       "      <td>5123.99</td>\n",
       "      <td>Digitales Gesamtangebot</td>\n",
       "      <td>df</td>\n",
       "      <td>NaN</td>\n",
       "      <td>ebay Kleinanzeigen</td>\n",
       "      <td>NaN</td>\n",
       "      <td>68043</td>\n",
       "      <td>...</td>\n",
       "      <td>NaN</td>\n",
       "      <td>NaN</td>\n",
       "      <td>47.5</td>\n",
       "      <td>27.82</td>\n",
       "      <td>Nutzer mobiler und/oder stationärer Angebote (...</td>\n",
       "      <td>April 2017</td>\n",
       "      <td>Gesamt</td>\n",
       "      <td>5d91d628b076fdd7ee315044</td>\n",
       "      <td>5d91d627b076fdd7ee315039</td>\n",
       "      <td>ddf_April-Juli_2017_Angebote_Ranking_Digital.xlsx</td>\n",
       "    </tr>\n",
       "    <tr>\n",
       "      <td>2</td>\n",
       "      <td>daily digital facts 15.08.2017 / Rangreihe</td>\n",
       "      <td>10 Jahre und älter</td>\n",
       "      <td>NaN</td>\n",
       "      <td>107.82</td>\n",
       "      <td>Digitales Gesamtangebot</td>\n",
       "      <td>df</td>\n",
       "      <td>NaN</td>\n",
       "      <td>gutefrage.net</td>\n",
       "      <td>NaN</td>\n",
       "      <td>56022</td>\n",
       "      <td>...</td>\n",
       "      <td>NaN</td>\n",
       "      <td>NaN</td>\n",
       "      <td>39.3</td>\n",
       "      <td>23.04</td>\n",
       "      <td>Nutzer mobiler und/oder stationärer Angebote (...</td>\n",
       "      <td>April 2017</td>\n",
       "      <td>Gesamt</td>\n",
       "      <td>5d91d628b076fdd7ee315045</td>\n",
       "      <td>5d91d627b076fdd7ee315039</td>\n",
       "      <td>ddf_April-Juli_2017_Angebote_Ranking_Digital.xlsx</td>\n",
       "    </tr>\n",
       "    <tr>\n",
       "      <td>3</td>\n",
       "      <td>daily digital facts 15.08.2017 / Rangreihe</td>\n",
       "      <td>10 Jahre und älter</td>\n",
       "      <td>NaN</td>\n",
       "      <td>3101.02</td>\n",
       "      <td>Digitales Gesamtangebot</td>\n",
       "      <td>df</td>\n",
       "      <td>NaN</td>\n",
       "      <td>WEB.DE</td>\n",
       "      <td>NaN</td>\n",
       "      <td>60746</td>\n",
       "      <td>...</td>\n",
       "      <td>NaN</td>\n",
       "      <td>NaN</td>\n",
       "      <td>38.2</td>\n",
       "      <td>22.37</td>\n",
       "      <td>Nutzer mobiler und/oder stationärer Angebote (...</td>\n",
       "      <td>April 2017</td>\n",
       "      <td>Gesamt</td>\n",
       "      <td>5d91d628b076fdd7ee315046</td>\n",
       "      <td>5d91d627b076fdd7ee315039</td>\n",
       "      <td>ddf_April-Juli_2017_Angebote_Ranking_Digital.xlsx</td>\n",
       "    </tr>\n",
       "    <tr>\n",
       "      <td>4</td>\n",
       "      <td>daily digital facts 15.08.2017 / Rangreihe</td>\n",
       "      <td>10 Jahre und älter</td>\n",
       "      <td>NaN</td>\n",
       "      <td>1179.37</td>\n",
       "      <td>Digitales Gesamtangebot</td>\n",
       "      <td>df</td>\n",
       "      <td>NaN</td>\n",
       "      <td>BILD</td>\n",
       "      <td>NaN</td>\n",
       "      <td>49844</td>\n",
       "      <td>...</td>\n",
       "      <td>NaN</td>\n",
       "      <td>NaN</td>\n",
       "      <td>37.7</td>\n",
       "      <td>22.09</td>\n",
       "      <td>Nutzer mobiler und/oder stationärer Angebote (...</td>\n",
       "      <td>April 2017</td>\n",
       "      <td>Gesamt</td>\n",
       "      <td>5d91d628b076fdd7ee315047</td>\n",
       "      <td>5d91d627b076fdd7ee315039</td>\n",
       "      <td>ddf_April-Juli_2017_Angebote_Ranking_Digital.xlsx</td>\n",
       "    </tr>\n",
       "  </tbody>\n",
       "</table>\n",
       "<p>5 rows × 22 columns</p>\n",
       "</div>"
      ],
      "text/plain": [
       "                                      Analyse     Grundgesamtheit  \\\n",
       "0  daily digital facts 15.08.2017 / Rangreihe  10 Jahre und älter   \n",
       "1  daily digital facts 15.08.2017 / Rangreihe  10 Jahre und älter   \n",
       "2  daily digital facts 15.08.2017 / Rangreihe  10 Jahre und älter   \n",
       "3  daily digital facts 15.08.2017 / Rangreihe  10 Jahre und älter   \n",
       "4  daily digital facts 15.08.2017 / Rangreihe  10 Jahre und älter   \n",
       "\n",
       "   Kontakte  Mio Kontakte Mio                Medientyp Studien- teil  \\\n",
       "0            NaN      1463.77  Digitales Gesamtangebot            df   \n",
       "1            NaN      5123.99  Digitales Gesamtangebot            df   \n",
       "2            NaN       107.82  Digitales Gesamtangebot            df   \n",
       "3            NaN      3101.02  Digitales Gesamtangebot            df   \n",
       "4            NaN      1179.37  Digitales Gesamtangebot            df   \n",
       "\n",
       "  Studienteil               Titel  Ungew Fälle  auf Basis  ZG/Vorfilter  \\\n",
       "0         NaN            T Online                                   NaN   \n",
       "1         NaN  ebay Kleinanzeigen                                   NaN   \n",
       "2         NaN       gutefrage.net                                   NaN   \n",
       "3         NaN              WEB.DE                                   NaN   \n",
       "4         NaN                BILD                                   NaN   \n",
       "\n",
       "  Ungew Fälle auf Basis Gesamt 10+  ... Unique User  %  Unique User  Mio  \\\n",
       "0                            68099  ...            NaN               NaN   \n",
       "1                            68043  ...            NaN               NaN   \n",
       "2                            56022  ...            NaN               NaN   \n",
       "3                            60746  ...            NaN               NaN   \n",
       "4                            49844  ...            NaN               NaN   \n",
       "\n",
       "   Unique User %  Unique User Mio  \\\n",
       "0           48.1            28.15   \n",
       "1           47.5            27.82   \n",
       "2           39.3            23.04   \n",
       "3           38.2            22.37   \n",
       "4           37.7            22.09   \n",
       "\n",
       "                                           Vorfilter    Zeitraum Zielgruppe  \\\n",
       "0  Nutzer mobiler und/oder stationärer Angebote (...  April 2017     Gesamt   \n",
       "1  Nutzer mobiler und/oder stationärer Angebote (...  April 2017     Gesamt   \n",
       "2  Nutzer mobiler und/oder stationärer Angebote (...  April 2017     Gesamt   \n",
       "3  Nutzer mobiler und/oder stationärer Angebote (...  April 2017     Gesamt   \n",
       "4  Nutzer mobiler und/oder stationärer Angebote (...  April 2017     Gesamt   \n",
       "\n",
       "                        _id                   _job_id  \\\n",
       "0  5d91d628b076fdd7ee315043  5d91d627b076fdd7ee315039   \n",
       "1  5d91d628b076fdd7ee315044  5d91d627b076fdd7ee315039   \n",
       "2  5d91d628b076fdd7ee315045  5d91d627b076fdd7ee315039   \n",
       "3  5d91d628b076fdd7ee315046  5d91d627b076fdd7ee315039   \n",
       "4  5d91d628b076fdd7ee315047  5d91d627b076fdd7ee315039   \n",
       "\n",
       "                                                _src  \n",
       "0  ddf_April-Juli_2017_Angebote_Ranking_Digital.xlsx  \n",
       "1  ddf_April-Juli_2017_Angebote_Ranking_Digital.xlsx  \n",
       "2  ddf_April-Juli_2017_Angebote_Ranking_Digital.xlsx  \n",
       "3  ddf_April-Juli_2017_Angebote_Ranking_Digital.xlsx  \n",
       "4  ddf_April-Juli_2017_Angebote_Ranking_Digital.xlsx  \n",
       "\n",
       "[5 rows x 22 columns]"
      ]
     },
     "execution_count": 115,
     "metadata": {},
     "output_type": "execute_result"
    }
   ],
   "source": [
    "df.head()"
   ]
  },
  {
   "cell_type": "code",
   "execution_count": 116,
   "metadata": {},
   "outputs": [
    {
     "data": {
      "text/plain": [
       "Letzter Monat (Dezember 2017)     720\n",
       "April 2017                        717\n",
       "Letzter Monat (November 2017)     716\n",
       "Letzter Monat (September 2017)    713\n",
       "Letzter Monat (Oktober 2017)      706\n",
       "August 2017                       702\n",
       "Letzter Monat (Februar 2018)      666\n",
       "Letzter Monat (März 2018)         665\n",
       "Letzter Monat (Januar 2018)       664\n",
       "Letzter Monat (April 2018)        641\n",
       "Name: Zeitraum, dtype: int64"
      ]
     },
     "execution_count": 116,
     "metadata": {},
     "output_type": "execute_result"
    }
   ],
   "source": [
    "df.Zeitraum.value_counts()"
   ]
  },
  {
   "cell_type": "code",
   "execution_count": 117,
   "metadata": {},
   "outputs": [],
   "source": [
    "import datetime\n",
    "MONAT = {\n",
    "    \"Januar\": \"01\",\n",
    "    \"Februar\": \"02\",\n",
    "    \"März\": \"03\",\n",
    "    \"April\": \"04\",\n",
    "    \"Mai\": \"05\",\n",
    "    \"Juni\": \"06\",\n",
    "    \"Juli\": \"07\",\n",
    "    \"August\": \"08\",\n",
    "    \"September\": \"09\",\n",
    "    \"Oktober\": \"10\",\n",
    "    \"November\": \"11\",\n",
    "    \"Dezember\": \"12\"\n",
    "}\n",
    "monat = df.Zeitraum.apply(lambda s: s.replace(\"Letzter Monat (\", \"\").replace(\")\", \"\").split())"
   ]
  },
  {
   "cell_type": "code",
   "execution_count": 118,
   "metadata": {},
   "outputs": [],
   "source": [
    "df[\"Monat\"] = [datetime.datetime.strptime(\"01.\" + MONAT[m[0]] + \".\" + m[1], \"%d.%m.%Y\") for m in monat]"
   ]
  },
  {
   "cell_type": "code",
   "execution_count": 210,
   "metadata": {},
   "outputs": [],
   "source": [
    "df[\"val\"] = df[\"Kontakte Mio\"].apply(pd.to_numeric, errors='coerce')"
   ]
  },
  {
   "cell_type": "code",
   "execution_count": 211,
   "metadata": {},
   "outputs": [],
   "source": [
    "%matplotlib notebook\n",
    "import matplotlib.pyplot as plt"
   ]
  },
  {
   "cell_type": "code",
   "execution_count": 212,
   "metadata": {},
   "outputs": [
    {
     "name": "stdout",
     "output_type": "stream",
     "text": [
      "<class 'pandas.core.frame.DataFrame'>\n",
      "RangeIndex: 6910 entries, 0 to 6909\n",
      "Data columns (total 25 columns):\n",
      "Analyse                                 6910 non-null object\n",
      "Grundgesamtheit                         6910 non-null object\n",
      "Kontakte  Mio                           702 non-null float64\n",
      "Kontakte Mio                            6208 non-null object\n",
      "Medientyp                               6910 non-null object\n",
      "Studien- teil                           717 non-null object\n",
      "Studienteil                             1415 non-null object\n",
      "Titel                                   6910 non-null object\n",
      "Ungew Fälle  auf Basis  ZG/Vorfilter    702 non-null float64\n",
      "Ungew Fälle auf Basis Gesamt 10+        6910 non-null object\n",
      "Ungew Fälle auf Basis ZG/Vorfilter      6208 non-null object\n",
      "Unique Use  %                           666 non-null float64\n",
      "Unique User  %                          702 non-null float64\n",
      "Unique User  Mio                        702 non-null float64\n",
      "Unique User %                           5542 non-null object\n",
      "Unique User Mio                         6205 non-null float64\n",
      "Vorfilter                               6910 non-null object\n",
      "Zeitraum                                6910 non-null object\n",
      "Zielgruppe                              6910 non-null object\n",
      "_id                                     6910 non-null object\n",
      "_job_id                                 6910 non-null object\n",
      "_src                                    6910 non-null object\n",
      "Monat                                   6910 non-null datetime64[ns]\n",
      "Unique                                  5539 non-null float64\n",
      "val                                     6205 non-null float64\n",
      "dtypes: datetime64[ns](1), float64(8), object(16)\n",
      "memory usage: 1.3+ MB\n"
     ]
    }
   ],
   "source": [
    "df.info()"
   ]
  },
  {
   "cell_type": "code",
   "execution_count": 213,
   "metadata": {},
   "outputs": [],
   "source": [
    "g = df.groupby([\"Monat\"])[\"val\"].sum()"
   ]
  },
  {
   "cell_type": "code",
   "execution_count": 214,
   "metadata": {},
   "outputs": [
    {
     "data": {
      "text/plain": [
       "<IPython.core.display.Javascript object>"
      ]
     },
     "metadata": {},
     "output_type": "display_data"
    },
    {
     "data": {
      "text/html": [
       "<img src=\"data:image/png;base64,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\" width=\"639.9999861283738\">"
      ],
      "text/plain": [
       "<IPython.core.display.HTML object>"
      ]
     },
     "metadata": {},
     "output_type": "execute_result"
    },
    {
     "data": {
      "text/plain": [
       "<matplotlib.axes._subplots.AxesSubplot at 0x7f093b655518>"
      ]
     },
     "execution_count": 214,
     "metadata": {},
     "output_type": "execute_result"
    }
   ],
   "source": [
    "g.plot(kind=\"bar\")"
   ]
  },
  {
   "cell_type": "code",
   "execution_count": 24,
   "metadata": {},
   "outputs": [
    {
     "data": {
      "text/plain": [
       "['Digitales Gesamtangebot',\n",
       " 'Website Angebot',\n",
       " 'Mobiles Gesamtangebot',\n",
       " 'Digitale Vermarkterreichweite',\n",
       " 'Internet Vermarkter Reichweite',\n",
       " 'Mobile Vermarkterreichweite',\n",
       " 'Internet Vermarkterreichweite']"
      ]
     },
     "execution_count": 24,
     "metadata": {},
     "output_type": "execute_result"
    }
   ],
   "source": [
    "coll.distinct(\"Medientyp\")"
   ]
  },
  {
   "cell_type": "code",
   "execution_count": 17,
   "metadata": {},
   "outputs": [
    {
     "data": {
      "text/plain": [
       "['daily digital facts 15.08.2017 / Rangreihe',\n",
       " 'daily digital facts 18.09.2017 / Rangreihe',\n",
       " 'daily digital facts 15.08.2017 / Vermarkterranking April 2017 ',\n",
       " 'daily digital facts 15.08.2017 / Vermarkterranking April 2017',\n",
       " 'daily digital facts 16.08.2017',\n",
       " 'daily digital facts 01.02.2018 / Rangreihe',\n",
       " 'daily digital facts 01.02.2019 / Rangreihe',\n",
       " 'daily digital facts 15.09.2017 / Rangreihe',\n",
       " 'daily digital facts 01.03.2018 / Rangreihe',\n",
       " 'daily digital facts 01.03.2019 / Rangreihe',\n",
       " 'daily digital facts 09.10.2017 / Rangreihe',\n",
       " 'daily digital facts 03.04.2018 / Rangreihe',\n",
       " 'daily digital facts 01.04.2019 / Rangreihe',\n",
       " 'daily digital facts 17.11.2017 / Rangreihe',\n",
       " 'daily digital facts 02.05.2018 / Rangreihe',\n",
       " 'daily digital facts 02.05.2019 / Rangreihe',\n",
       " 'daily digital facts 05.12.2017 / Rangreihe',\n",
       " 'daily digital facts 05.06.2018 / Rangreihe',\n",
       " 'daily digital facts 01.06.2018 / Rangreihe',\n",
       " 'daily digital facts 03.06.2019 / Rangreihe',\n",
       " 'daily digital facts 02.01.2018 / Rangreihe',\n",
       " 'daily digital facts 09.01.2018 / Rangreihe',\n",
       " 'daily digital facts 03.07.2018 / Rangreihe',\n",
       " 'daily digital facts 02.07.2018 / Rangreihe',\n",
       " 'daily digital facts 01.07.2019 / Rangreihe',\n",
       " 'daily digital facts 01.08.2018 / Rangreihe',\n",
       " 'daily digital facts 01.08.2019 / Rangreihe',\n",
       " 'daily digital facts 03.09.2018 / Rangreihe',\n",
       " 'daily digital facts 02.09.2019 / Rangreihe',\n",
       " 'daily digital facts 01.10.2018 / Rangreihe',\n",
       " 'daily digital facts 01.11.2018 / Rangreihe',\n",
       " 'daily digital facts 03.12.2018 / Rangreihe',\n",
       " 'daily digital facts 02.01.2019 / Rangreihe']"
      ]
     },
     "execution_count": 17,
     "metadata": {},
     "output_type": "execute_result"
    }
   ],
   "source": [
    "coll.distinct(\"Analyse\")"
   ]
  }
 ],
 "metadata": {
  "kernelspec": {
   "display_name": "Python 3",
   "language": "python",
   "name": "python3"
  },
  "language_info": {
   "codemirror_mode": {
    "name": "ipython",
    "version": 3
   },
   "file_extension": ".py",
   "mimetype": "text/x-python",
   "name": "python",
   "nbconvert_exporter": "python",
   "pygments_lexer": "ipython3",
   "version": "3.5.3"
  }
 },
 "nbformat": 4,
 "nbformat_minor": 2
}
