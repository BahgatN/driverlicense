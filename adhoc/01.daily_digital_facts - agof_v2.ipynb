{
 "cells": [
  {
   "cell_type": "code",
   "execution_count": null,
   "metadata": {},
   "outputs": [],
   "source": [
    "url = \"https://www.agof.de/service-downloads/downloadcenter/download-daily-digital-facts/\""
   ]
  },
  {
   "cell_type": "code",
   "execution_count": null,
   "metadata": {},
   "outputs": [],
   "source": [
    "import requests"
   ]
  },
  {
   "cell_type": "code",
   "execution_count": null,
   "metadata": {},
   "outputs": [],
   "source": [
    "rv = requests.get(url)"
   ]
  },
  {
   "cell_type": "code",
   "execution_count": null,
   "metadata": {},
   "outputs": [],
   "source": [
    "body = rv.content.decode(\"utf-8\")"
   ]
  },
  {
   "cell_type": "code",
   "execution_count": null,
   "metadata": {},
   "outputs": [],
   "source": [
    "type(body)"
   ]
  },
  {
   "cell_type": "code",
   "execution_count": null,
   "metadata": {},
   "outputs": [],
   "source": [
    "#body"
   ]
  },
  {
   "cell_type": "code",
   "execution_count": null,
   "metadata": {},
   "outputs": [],
   "source": [
    "import re\n",
    "links = re.findall(\"href=[\\\"\\'](.+?)[\\\"\\']\", body)"
   ]
  },
  {
   "cell_type": "code",
   "execution_count": null,
   "metadata": {},
   "outputs": [],
   "source": [
    "xls_all = [href for href in links if href.endswith(\".xls\") or href.endswith(\".xlsx\")]"
   ]
  },
  {
   "cell_type": "code",
   "execution_count": null,
   "metadata": {},
   "outputs": [],
   "source": [
    "xls = [filename for filename in xls_all if \"Angebote_Ranking\" in filename]"
   ]
  },
  {
   "cell_type": "code",
   "execution_count": null,
   "metadata": {},
   "outputs": [],
   "source": [
    "xls[0]"
   ]
  },
  {
   "cell_type": "code",
   "execution_count": null,
   "metadata": {},
   "outputs": [],
   "source": [
    "len(xls)"
   ]
  },
  {
   "cell_type": "code",
   "execution_count": null,
   "metadata": {},
   "outputs": [],
   "source": [
    "# process the first item, then create a loop to process a couple more\n",
    "rv = requests.get(xls[0])"
   ]
  },
  {
   "cell_type": "code",
   "execution_count": null,
   "metadata": {},
   "outputs": [],
   "source": [
    "open(\"/tmp/test.xlsx\", \"wb\").write(rv.content)"
   ]
  },
  {
   "cell_type": "code",
   "execution_count": null,
   "metadata": {},
   "outputs": [],
   "source": [
    "import pandas as pd\n",
    "# df = pd.read_excel(\"/tmp/test.xlsx\", skiprows = 8) - also possible but we loose meta data"
   ]
  },
  {
   "cell_type": "code",
   "execution_count": null,
   "metadata": {},
   "outputs": [],
   "source": [
    "# read data without skipping rows and find out the start\n",
    "df = pd.read_excel(\"/tmp/test.xlsx\", header=None)"
   ]
  },
  {
   "cell_type": "code",
   "execution_count": null,
   "metadata": {},
   "outputs": [],
   "source": [
    "df.shape"
   ]
  },
  {
   "cell_type": "code",
   "execution_count": null,
   "metadata": {},
   "outputs": [],
   "source": [
    "assert df.iloc[0, 0] == \"Analyse\"\n",
    "analyse = df.iloc[0, 1]\n",
    "assert df.iloc[1, 0] == \"Grundgesamtheit\"\n",
    "grundgesamtheit = df.iloc[1, 1]\n",
    "assert df.iloc[2, 0] == \"Zeitraum\"\n",
    "zeitraum = df.iloc[2, 1]\n",
    "assert df.iloc[3, 0] == \"Vorfilter\"\n",
    "vorfilter = df.iloc[3, 1]\n",
    "vorfilter_fallzahl = df.iloc[4, 1]\n",
    "assert df.iloc[5, 0] == \"Zielgruppe\"\n",
    "zielgruppe = df.iloc[5, 1]\n",
    "zielgruppe_fallzahl = df.iloc[6, 1]"
   ]
  },
  {
   "cell_type": "code",
   "execution_count": null,
   "metadata": {},
   "outputs": [],
   "source": [
    "ln = 7\n",
    "while df.iloc[ln, 0] != \"Basis\":\n",
    "    ln += 1\n",
    "    if ln > 1000:\n",
    "        raise  RuntimeError(\"failed to identify start of data\")"
   ]
  },
  {
   "cell_type": "code",
   "execution_count": null,
   "metadata": {},
   "outputs": [],
   "source": [
    "dframe = df.iloc[ln:].copy()\n",
    "cols = list(df.iloc[ln-1])\n",
    "cols[0] = \"Titel\"\n",
    "dframe.columns = [\"\" if pd.isnull(c)\n",
    "             else c.replace(\"\\n\", \" \").replace(\".\", \"\") for c in cols]\n",
    "if \"\" in dframe.columns:\n",
    "    dframe.drop([\"\"], axis=1, inplace=True)\n",
    "dframe[\"Analyse\"] = analyse\n",
    "dframe[\"Grundgesamtheit\"] = grundgesamtheit\n",
    "dframe[\"Zeitraum\"] = zeitraum\n",
    "dframe[\"Vorfilter\"] = vorfilter\n",
    "dframe[\"Zielgruppe\"] = zielgruppe"
   ]
  },
  {
   "cell_type": "code",
   "execution_count": null,
   "metadata": {},
   "outputs": [],
   "source": [
    "dframe.head()"
   ]
  },
  {
   "cell_type": "code",
   "execution_count": null,
   "metadata": {},
   "outputs": [],
   "source": [
    "dframe.Zeitraum.value_counts()"
   ]
  },
  {
   "cell_type": "code",
   "execution_count": null,
   "metadata": {},
   "outputs": [],
   "source": [
    "def process(df):\n",
    "    assert df.iloc[0, 0] == \"Analyse\"\n",
    "    analyse = df.iloc[0, 1]\n",
    "    assert df.iloc[1, 0] == \"Grundgesamtheit\"\n",
    "    grundgesamtheit = df.iloc[1, 1]\n",
    "    assert df.iloc[2, 0] == \"Zeitraum\"\n",
    "    zeitraum = df.iloc[2, 1]\n",
    "    assert df.iloc[3, 0] == \"Vorfilter\"\n",
    "    vorfilter = df.iloc[3, 1]\n",
    "    vorfilter_fallzahl = df.iloc[4, 1]\n",
    "    assert df.iloc[5, 0] == \"Zielgruppe\"\n",
    "    zielgruppe = df.iloc[5, 1]\n",
    "    zielgruppe_fallzahl = df.iloc[6, 1]\n",
    "    ln = 7\n",
    "    while df.iloc[ln, 0] != \"Basis\":\n",
    "        ln += 1\n",
    "        if ln > 1000:\n",
    "            raise  RuntimeError(\"failed to identify start of data\")\n",
    "    d = df.iloc[ln:].copy()\n",
    "    cols = list(df.iloc[ln-1])\n",
    "    cols[0] = \"Titel\"\n",
    "    d.columns = [\"\" if pd.isnull(c)\n",
    "                 else c.replace(\"\\n\", \" \").replace(\".\", \"\") for c in cols]\n",
    "    if \"\" in d.columns:\n",
    "        d.drop([\"\"], axis=1, inplace=True)\n",
    "    d[\"Analyse\"] = analyse\n",
    "    d[\"Grundgesamtheit\"] = grundgesamtheit\n",
    "    d[\"Zeitraum\"] = zeitraum\n",
    "    d[\"Vorfilter\"] = vorfilter\n",
    "    d[\"Zielgruppe\"] = zielgruppe\n",
    "    return(d)\n",
    "    "
   ]
  },
  {
   "cell_type": "code",
   "execution_count": null,
   "metadata": {},
   "outputs": [],
   "source": [
    "fin_df = list()\n",
    "fin_df.append(dframe)\n",
    "for i in range(1,30):\n",
    "    rv = requests.get(xls[i])\n",
    "    open(\"/tmp/test\"+str(i)+\".xlsx\", \"wb\").write(rv.content)\n",
    "    df = pd.read_excel(\"/tmp/test\"+str(i)+\".xlsx\", header=None)\n",
    "    df_processed = process(df)\n",
    "    fin_df.append(df_processed)\n",
    "    \n",
    "fin_df = pd.concat(fin_df)"
   ]
  },
  {
   "cell_type": "code",
   "execution_count": null,
   "metadata": {},
   "outputs": [],
   "source": [
    "fin_df.shape"
   ]
  },
  {
   "cell_type": "code",
   "execution_count": null,
   "metadata": {},
   "outputs": [],
   "source": [
    "fin_df.Zeitraum.value_counts()"
   ]
  },
  {
   "cell_type": "code",
   "execution_count": null,
   "metadata": {},
   "outputs": [],
   "source": [
    "import datetime\n",
    "MONAT = {\n",
    "    \"Januar\": \"01\",\n",
    "    \"Februar\": \"02\",\n",
    "    \"März\": \"03\",\n",
    "    \"April\": \"04\",\n",
    "    \"Mai\": \"05\",\n",
    "    \"Juni\": \"06\",\n",
    "    \"Juli\": \"07\",\n",
    "    \"August\": \"08\",\n",
    "    \"September\": \"09\",\n",
    "    \"Oktober\": \"10\",\n",
    "    \"November\": \"11\",\n",
    "    \"Dezember\": \"12\"\n",
    "}\n",
    "monat = fin_df.Zeitraum.apply(lambda s: s.replace(\"Letzter Monat (\", \"\").replace(\")\", \"\").split())"
   ]
  },
  {
   "cell_type": "code",
   "execution_count": null,
   "metadata": {},
   "outputs": [],
   "source": [
    "type(monat)"
   ]
  },
  {
   "cell_type": "code",
   "execution_count": null,
   "metadata": {},
   "outputs": [],
   "source": [
    "monat.head()"
   ]
  },
  {
   "cell_type": "code",
   "execution_count": null,
   "metadata": {},
   "outputs": [],
   "source": [
    "fin_df[\"Monat\"] = [datetime.datetime.strptime(\"01.\" + MONAT[m[0]] + \".\" + m[1], \"%d.%m.%Y\") for m in monat]"
   ]
  },
  {
   "cell_type": "code",
   "execution_count": null,
   "metadata": {},
   "outputs": [],
   "source": [
    "fin_df[\"val\"] = fin_df[\"Kontakte Mio\"].apply(pd.to_numeric, errors='coerce')\n",
    "fin_df['Date'] = fin_df.Monat.apply(lambda x: x.date().isoformat())"
   ]
  },
  {
   "cell_type": "code",
   "execution_count": null,
   "metadata": {},
   "outputs": [],
   "source": [
    "%matplotlib notebook\n",
    "import matplotlib.pyplot as plt"
   ]
  },
  {
   "cell_type": "code",
   "execution_count": null,
   "metadata": {},
   "outputs": [],
   "source": [
    "import numpy as np\n",
    "fin_df = fin_df.replace(np.nan,0)\n",
    "g = fin_df.groupby([\"Date\"]).val.sum()\n",
    "g.plot.bar()\n",
    "plt.ylabel(\"Contacts\")\n",
    "plt.tight_layout()"
   ]
  },
  {
   "cell_type": "code",
   "execution_count": null,
   "metadata": {},
   "outputs": [],
   "source": [
    "fin_df.columns"
   ]
  },
  {
   "cell_type": "code",
   "execution_count": null,
   "metadata": {},
   "outputs": [],
   "source": [
    "fin_df.Medientyp.unique()"
   ]
  },
  {
   "cell_type": "code",
   "execution_count": null,
   "metadata": {},
   "outputs": [],
   "source": [
    "%matplotlib notebook\n",
    "df_new = fin_df[fin_df.Medientyp != 0]\n",
    "g1 = df_new.groupby([\"Medientyp\"]).val.sum()\n",
    "g1.plot.bar()\n",
    "plt.ylabel(\"Contacts\")\n",
    "plt.xticks(rotation='horizontal')\n",
    "plt.tight_layout()"
   ]
  },
  {
   "cell_type": "code",
   "execution_count": null,
   "metadata": {},
   "outputs": [],
   "source": [
    "list(g1.index)"
   ]
  },
  {
   "cell_type": "code",
   "execution_count": null,
   "metadata": {},
   "outputs": [],
   "source": [
    "%matplotlib notebook\n",
    "\n",
    "df_new = fin_df[fin_df.Medientyp != 0]\n",
    "# Monthly contacts for each media group\n",
    "g1 = df_new.groupby([\"Date\",\"Medientyp\"]).val.sum().unstack()\n",
    "# contact of different media group per month\n",
    "# g1 = df_new.groupby([\"Date\",\"Medientyp\"]).val.sum().unstack(0)\n",
    "plt.rcParams[\"figure.figsize\"] = [7,7]\n",
    "g1.plot.bar(rot=45)\n",
    "\n",
    "plt.ylabel(\"Contacts\")\n",
    "plt.legend(fontsize='small')\n",
    "plt.tight_layout()"
   ]
  },
  {
   "cell_type": "code",
   "execution_count": null,
   "metadata": {},
   "outputs": [],
   "source": []
  },
  {
   "cell_type": "code",
   "execution_count": null,
   "metadata": {},
   "outputs": [],
   "source": []
  }
 ],
 "metadata": {
  "kernelspec": {
   "display_name": "Python 3",
   "language": "python",
   "name": "python3"
  },
  "language_info": {
   "codemirror_mode": {
    "name": "ipython",
    "version": 3
   },
   "file_extension": ".py",
   "mimetype": "text/x-python",
   "name": "python",
   "nbconvert_exporter": "python",
   "pygments_lexer": "ipython3",
   "version": "3.6.3"
  }
 },
 "nbformat": 4,
 "nbformat_minor": 2
}
