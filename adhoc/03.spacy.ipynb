{
 "cells": [
  {
   "cell_type": "code",
   "execution_count": 2,
   "metadata": {},
   "outputs": [],
   "source": [
    "import spacy\n",
    "nlp = spacy.load(\"de_core_news_sm\")"
   ]
  },
  {
   "cell_type": "code",
   "execution_count": 14,
   "metadata": {},
   "outputs": [],
   "source": [
    "sen = nlp(\"Mein Name ist Michael und ich lerne Python seit 2007.\")"
   ]
  },
  {
   "cell_type": "code",
   "execution_count": 16,
   "metadata": {},
   "outputs": [
    {
     "data": {
      "text/plain": [
       "[(Mein, 'DET'),\n",
       " (Name, 'NOUN'),\n",
       " (ist, 'AUX'),\n",
       " (Michael, 'PROPN'),\n",
       " (und, 'CONJ'),\n",
       " (ich, 'PRON'),\n",
       " (lerne, 'ADJ'),\n",
       " (Python, 'NOUN'),\n",
       " (seit, 'ADP'),\n",
       " (2007, 'NUM'),\n",
       " (., 'PUNCT')]"
      ]
     },
     "execution_count": 16,
     "metadata": {},
     "output_type": "execute_result"
    }
   ],
   "source": [
    "[(i, i.pos_) for i in sen]"
   ]
  },
  {
   "cell_type": "code",
   "execution_count": 17,
   "metadata": {},
   "outputs": [],
   "source": [
    "import requests"
   ]
  },
  {
   "cell_type": "code",
   "execution_count": 22,
   "metadata": {},
   "outputs": [],
   "source": [
    "url = \"http://www.tagesschau.de/xml/atom/\"\n",
    "rv = requests.get(url)"
   ]
  },
  {
   "cell_type": "code",
   "execution_count": 20,
   "metadata": {},
   "outputs": [
    {
     "data": {
      "text/plain": [
       "b'<?xml version=\"1.0\" encoding=\"UTF-8\" ?>\\n<?xml-stylesheet href=\"/resources/xsl/atom_xsl.jsp\" type=\"text/xsl\"?>\\n<feed xmlns=\"http://www.w3.org/2005/Atom\">\\n<title>tagesschau.de</title>\\n<subtitle>Die Nachrichten der ARD</subtitle>\\n<link href=\"http://www.tagesschau.de/\"/>\\n<link rel=\"self\" href=\"http://www.tagesschau.de/xml/atom/\"/>\\n<updated>2019-10-01T21:35:26.692+02:00</updated>\\n<author>\\n<name>tagesschau.de</name>\\n</author>\\n<id>http://www.tagesschau.de</id>\\n<entry>\\n<title>Altmaier legt Mittelstandsstrategie vor - SPD skeptisch</title>\\n<link href=\"http://www.tagesschau.de/wirtschaft/mittelstand-strategie-101.html\"/>\\n<id>http://www.tagesschau.de/wirtschaft/mittelstand-strategie-101.html</id>\\n<updated>2019-10-01T19:16:04.522+02:00</updated>\\n<summary>Im Februar hatte Wirtschaftsminister Altmaier seine Industriestrategie vorgestellt - und den Mittelstand darin vergessen. Nun liefert er nach und verspricht: weniger Steuern, weniger B\\xc3\\xbcrokratie. Die SPD ist skeptisch. Von Franka Welz.</summary>\\n</entry>\\n<entry>\\n<title>Gerade in den Gro\\xc3\\x9fst\\xc3\\xa4dten steigen die Mieten immer weiter</title>\\n<link href=\"http://www.tagesschau.de/inland/mieten-metropolen-101.html\"/>\\n<id>http://www.tagesschau.de/inland/mieten-metropolen-101.html</id>\\n<updated>2019-10-01T16:22:38.104+02:00</updated>\\n<summary>Wohnen zur Miete wird immer teurer - vor allem in den gro\\xc3\\x9fen St\\xc3\\xa4dten. Neue Mietvertr\\xc3\\xa4ge liegen dort bis zu 25 Prozent \\xc3\\xbcber dem Gesamtdurchschnitt. Besonders bedrohlich ist das f\\xc3\\xbcr Mieter mit niedrigem Einkommen.</summary>\\n</entry>\\n<entry>\\n<title>Krankenkassen-Analyse: Jedem zweiten Kleinkind fehlen Impfungen</title>\\n<link href=\"http://www.tagesschau.de/inland/impfen-kleinkinder-techniker-101.html\"/>\\n<id>http://www.tagesschau.de/inland/impfen-kleinkinder-techniker-101.html</id>\\n<updated>2019-10-01T17:43:50.698+02:00</updated>\\n<summary>Die St\\xc3\\xa4ndige Impfkommission r\\xc3\\xa4t zum Schutz gegen insgesamt 13 Krankheiten in den ersten zwei Lebensjahren. Etwa die H\\xc3\\xa4lfte der Kleinkinder hat laut Techniker-Krankenkasse jedoch Impfl\\xc3\\xbccken.</summary>\\n</entry>\\n<entry>\\n<title>Neuer Pflege-T\\xc3\\x9cV soll realistische Bewertungen liefern</title>\\n<link href=\"http://www.tagesschau.de/inland/pflege-tuev-103.html\"/>\\n<id>http://www.tagesschau.de/inland/pflege-tuev-103.html</id>\\n<updated>2019-10-01T14:05:33.368+02:00</updated>\\n<summary>Die Krankenkassen haben den neuen Pflege-T\\xc3\\x9cV gestartet. Er soll Pflegebed\\xc3\\xbcrftigen und Angeh\\xc3\\xb6rigen helfen, aussagekr\\xc3\\xa4ftigere Heimbewertungen zu erhalten. Es gibt aber jetzt schon Kritik.</summary>\\n</entry>\\n<entry>\\n<title>Bewertung von Pflegeheimen: Ein neuer T\\xc3\\x9cV als Ansporn</title>\\n<link href=\"http://www.tagesschau.de/inland/pflege-tuev-105.html\"/>\\n<id>http://www.tagesschau.de/inland/pflege-tuev-105.html</id>\\n<updated>2019-10-01T17:19:53.497+02:00</updated>\\n<summary>Eine bessere Bewertung von Pflegeheimen, ein wenig Wettbewerb - das kann der Pflege-T\\xc3\\x9cV aus Sicht von Vera Wolfsk\\xc3\\xa4mpf bringen. Doch um Angeh\\xc3\\xb6rigen wirklich eine St\\xc3\\xbctze zu sein, w\\xc3\\xa4re noch mehr n\\xc3\\xb6tig.</summary>\\n</entry>\\n<entry>\\n<title>Ukraine-Aff\\xc3\\xa4re: Fiebersch\\xc3\\xbcbe in Washington</title>\\n<link href=\"http://www.tagesschau.de/ausland/trump-vorwuerfe-103.html\"/>\\n<id>http://www.tagesschau.de/ausland/trump-vorwuerfe-103.html</id>\\n<updated>2019-10-01T19:27:06.366+02:00</updated>\\n<summary>Nahezu t\\xc3\\xa4glich kommen neue Details \\xc3\\xbcber die Ukraine-Aff\\xc3\\xa4re von Pr\\xc3\\xa4sident Trump ans Licht - Ende offen. Der wehrt sich mit einer Flut w\\xc3\\xbctender Tweets und einer immer schrilleren Wortwahl. Von Martina Buttler.</summary>\\n</entry>\\n<entry>\\n<title>FP\\xc3\\x96 setzt Mitgliedschaft von Strache aus</title>\\n<link href=\"http://www.tagesschau.de/ausland/strache-rueckzug-105.html\"/>\\n<id>http://www.tagesschau.de/ausland/strache-rueckzug-105.html</id>\\n<updated>2019-10-01T19:56:31.014+02:00</updated>\\n<summary>Erst die Ibiza-Aff\\xc3\\xa4re, dann auch noch Untreue-Vorw\\xc3\\xbcrfe. Nach dem schlechten Wahlergebnis erkennt die FP\\xc3\\x96 in ihrem Ex-Parteichef Strache den Hauptschuldigen. Rausschmiss nicht ausgeschlossen.</summary>\\n</entry>\\n<entry>\\n<title>Kommentar: Erstmal wegducken und abwarten</title>\\n<link href=\"http://www.tagesschau.de/kommentar/strache-rueckzug-103.html\"/>\\n<id>http://www.tagesschau.de/kommentar/strache-rueckzug-103.html</id>\\n<updated>2019-10-01T21:00:37.598+02:00</updated>\\n<summary>Ex-FP\\xc3\\x96-Chef Strache hatte seine Suspendierung wohl kommen sehen und schon vorher das Ende seiner politischen Karriere verk\\xc3\\xbcndet. Doch dieser R\\xc3\\xbcckzug, meint Srdjan Govedaric, muss nicht von Dauer sein.</summary>\\n</entry>\\n<entry>\\n<title>Johnson stellt Plan f\\xc3\\xbcr \"Backstop\"-Alternative in Aussicht</title>\\n<link href=\"http://www.tagesschau.de/ausland/brexit-irland-105.html\"/>\\n<id>http://www.tagesschau.de/ausland/brexit-irland-105.html</id>\\n<updated>2019-10-01T13:22:57.563+02:00</updated>\\n<summary>In 30 Tagen wollen die Briten die EU verlassen. Premier Johnson will bald Vorschl\\xc3\\xa4ge zur Vermeidung eines \"Backstop\" vorlegen. Nun werden erste Inhalte bekannt, Kritiker sprechen von einem Rohrkrepierer. Von Thomas Spickhofen.</summary>\\n</entry>\\n<entry>\\n<title>Polizei schie\\xc3\\x9ft Demonstranten in Hongkong an</title>\\n<link href=\"http://www.tagesschau.de/ausland/hongkong-demo-china-103.html\"/>\\n<id>http://www.tagesschau.de/ausland/hongkong-demo-china-103.html</id>\\n<updated>2019-10-01T15:38:16.304+02:00</updated>\\n<summary>Mehrere Protestaktionen in Hongkong sind in gewaltsame Zusammenst\\xc3\\xb6\\xc3\\x9fe umgeschlagen. Ein Mann wurde laut Polizeiangaben angeschossen. Zahlreiche Demonstranten wurden festgenommen - am 70. Jahrestag Chinas.</summary>\\n</entry>\\n<entry>\\n<title>Kommentar: Supermacht mit gef\\xc3\\xa4hrlicher Ged\\xc3\\xa4chtnisschw\\xc3\\xa4che</title>\\n<link href=\"http://www.tagesschau.de/kommentar/kommentar-china-parade-101.html\"/>\\n<id>http://www.tagesschau.de/kommentar/kommentar-china-parade-101.html</id>\\n<updated>2019-10-01T15:31:47.782+02:00</updated>\\n<summary>China bekr\\xc3\\xa4ftigt seinen globalen Machtanspruch. Gleichzeitig feiert es seine Geschichte, ohne diese wirklich und wahrhaftig zu erz\\xc3\\xa4hlen, meint Axel Dorloff. Das ist gef\\xc3\\xa4hrlich, wie die Lage in Hongkong zeigt.</summary>\\n</entry>\\n<entry>\\n<title>Landwirte protestieren gegen strengere Auflagen</title>\\n<link href=\"http://www.tagesschau.de/inland/landwirtschaft-109.html\"/>\\n<id>http://www.tagesschau.de/inland/landwirtschaft-109.html</id>\\n<updated>2019-10-01T15:32:16.247+02:00</updated>\\n<summary>Ma\\xc3\\x9fnahmen der Bundesregierung f\\xc3\\xbcr mehr Umwelt- und Tierschutz sorgen f\\xc3\\xbcr Unmut bei den Bauern. Sie f\\xc3\\xbcrchten finanzielle Einbu\\xc3\\x9fen und protestieren mit gr\\xc3\\xbcnen Kreuzen auf ihren Feldern. Von Oda Lambrecht.</summary>\\n</entry>\\n<entry>\\n<title>Stau nach Trecker-Protest in den Niederlanden</title>\\n<link href=\"http://www.tagesschau.de/ausland/bauernprotest-niederlande-101.html\"/>\\n<id>http://www.tagesschau.de/ausland/bauernprotest-niederlande-101.html</id>\\n<updated>2019-10-01T11:57:30.187+02:00</updated>\\n<summary>Tausende Landwirte in den Niederlanden sind w\\xc3\\xbctend: Ihr Ansehen leidet, von der Politik fordern sie Respekt. An einem landesweiten Protest nahmen Tausende Bauern teil und sorgten f\\xc3\\xbcr rund 1000 Kilometer Stau auf den Stra\\xc3\\x9fen.</summary>\\n</entry>\\n<entry>\\n<title>EU will Reparierbarkeit von Haushaltsger\\xc3\\xa4ten f\\xc3\\xb6rdern</title>\\n<link href=\"http://www.tagesschau.de/ausland/elektromuell-103.html\"/>\\n<id>http://www.tagesschau.de/ausland/elektromuell-103.html</id>\\n<updated>2019-10-01T16:39:33.465+02:00</updated>\\n<summary>Tonnenweise landen in Europa t\\xc3\\xa4glich Haushaltsger\\xc3\\xa4te auf dem M\\xc3\\xbcll, auch weil sie schlecht zu reparieren sind. Das will die EU-Kommission jetzt per Vorschrift \\xc3\\xa4ndern. Verbrauchersch\\xc3\\xbctzer sind erfreut. Von Holger Beckmann.</summary>\\n</entry>\\n<entry>\\n<title>Sechs Monate Kurzarbeit bei Opel</title>\\n<link href=\"http://www.tagesschau.de/wirtschaft/opel-kurzarbeit-103.html\"/>\\n<id>http://www.tagesschau.de/wirtschaft/opel-kurzarbeit-103.html</id>\\n<updated>2019-10-01T13:59:20.678+02:00</updated>\\n<summary>Im Opel-Stammwerk in R\\xc3\\xbcsselsheim droht Kurzarbeit. Das Unternehmen stellte einen entsprechenden Antrag. Betroffen w\\xc3\\xa4ren 2600 Mitarbeiter. Erst ab 2021 wird die Belegschaft wieder mehr zu tun bekommen.</summary>\\n</entry>\\n<entry>\\n<title>Wohl keine volle Erstattung f\\xc3\\xbcr Thomas-Cook-Kunden</title>\\n<link href=\"http://www.tagesschau.de/wirtschaft/thomas-cook-erstattungen-101.html\"/>\\n<id>http://www.tagesschau.de/wirtschaft/thomas-cook-erstattungen-101.html</id>\\n<updated>2019-10-01T13:55:35.936+02:00</updated>\\n<summary>Viele Thomas-Cook-Kunden sind inzwischen aus dem Urlaub zur\\xc3\\xbcck - Tausende konnten ihre Reise gar nicht erst antreten. Und alle treibt die Frage um, ob die Versicherung die Kosten erstattet. Doch von der kommen schlechte Nachrichten.</summary>\\n</entry>\\n<entry>\\n<title>Kulturhauptstadt 2025: Acht deutsche St\\xc3\\xa4dte sind im Rennen</title>\\n<link href=\"http://www.tagesschau.de/multimedia/bilder/kulturhauptstadt-2025-bewerbungen-101.html\"/>\\n<id>http://www.tagesschau.de/multimedia/bilder/kulturhauptstadt-2025-bewerbungen-101.html</id>\\n<updated>2019-10-01T20:53:55.278+02:00</updated>\\n<summary>Jedes Jahr gibt es in Europa zwei Kulturhauptst\\xc3\\xa4dte. 2025 kommt eine aus Slowenien - die andere aus Deutschland. Acht St\\xc3\\xa4dte haben sich beworben, f\\xc3\\xbcnf davon aus Ostdeutschland. tagesschau.de stellt die acht vor.</summary>\\n</entry>\\n<entry>\\n<title>Schwerster Monsun seit 25 Jahren trifft Indien</title>\\n<link href=\"http://www.tagesschau.de/ausland/indien-monsun-113.html\"/>\\n<id>http://www.tagesschau.de/ausland/indien-monsun-113.html</id>\\n<updated>2019-10-01T17:28:11.245+02:00</updated>\\n<summary>Die Monsunzeit in Indien ist eigentlich vorbei. Dennoch haben heftige Unwetter vor allem im Norden und Osten schwere Sch\\xc3\\xa4den angerichtet. Viele Orte stehen weiterhin gro\\xc3\\x9ffl\\xc3\\xa4chig unter Wasser. Von Silke Diettrich.</summary>\\n</entry>\\n<entry>\\n<title>Griechenland verlegt Hunderte Migranten aufs Festland</title>\\n<link href=\"http://www.tagesschau.de/ausland/migranten-moria-101.html\"/>\\n<id>http://www.tagesschau.de/ausland/migranten-moria-101.html</id>\\n<updated>2019-10-01T09:25:59.960+02:00</updated>\\n<summary>Die Lage im \\xc3\\xbcberf\\xc3\\xbcllten Fl\\xc3\\xbcchtlingslager auf Lesbos ist zwei Tage nach dem Brand alles andere als ruhig. In einer ersten Reaktion l\\xc3\\xa4sst die Regierung Hunderte Migranten aufs Festland bringen. Von Michael Lehmann.</summary>\\n</entry>\\n<entry>\\n<title>EuGH: Zustimmung zu Internet-Cookies muss aktiv erfolgen</title>\\n<link href=\"http://www.tagesschau.de/inland/eugh-cookie-101.html\"/>\\n<id>http://www.tagesschau.de/inland/eugh-cookie-101.html</id>\\n<updated>2019-10-01T12:21:22.472+02:00</updated>\\n<summary>Sie dienen der Webseiten-Personalisierung, aber auch dem User-Tracking. Deshalb, so der EuGH, m\\xc3\\xbcssen Nutzer Internet-Cookies aktiv zustimmen. Ein voreingestelltes Ja sei unzul\\xc3\\xa4ssig. Von Kerstin Anabah.</summary>\\n</entry>\\n<entry>\\n<title>Der n\\xc3\\xa4chste Deutsche auf der ISS ist ein Saarl\\xc3\\xa4nder</title>\\n<link href=\"http://www.tagesschau.de/inland/deutscher-astronaut-iss-101.html\"/>\\n<id>http://www.tagesschau.de/inland/deutscher-astronaut-iss-101.html</id>\\n<updated>2019-10-01T17:47:16.813+02:00</updated>\\n<summary>\"Astro-Alex\" Gerst wird nicht nochmal zur ISS fliegen. N\\xc3\\xa4chster Deutscher wird der Saarl\\xc3\\xa4nder Matthias Maurer. Wann dieser allerdings ins All aufbrechen kann, ist noch unklar.</summary>\\n</entry>\\n<entry>\\n<title>Riesiger Eisberg in der Antarktis abgebrochen</title>\\n<link href=\"http://www.tagesschau.de/ausland/eisberg-suedpol-101.html\"/>\\n<id>http://www.tagesschau.de/ausland/eisberg-suedpol-101.html</id>\\n<updated>2019-10-01T09:11:52.863+02:00</updated>\\n<summary>So gro\\xc3\\x9f wie London, 200 Meter dick und viele Milliarden Tonnen schwer - das ist der Eisberg D28. In der Antarktis ist er vom Amery-Schelfeis abgebrochen. Forscher sehen keinen Zusammenhang mit dem Klimawandel.</summary>\\n</entry>\\n<entry>\\n<title></title>\\n<link href=\"http://www.tagesschau.de\"/>\\n<id>http://www.tagesschau.de</id>\\n<updated></updated>\\n<summary></summary>\\n</entry>\\n<entry>\\n<title>Neu ab Oktober: Neuzulassung im Internet m\\xc3\\xb6glich</title>\\n<link href=\"https://www.mdr.de/nachrichten/ratgeber/neu-ab-oktober-auto-online-neu-zulassen-pflege-tuev-aenderungen-bei-ebay-100.html\"/>\\n<id>https://www.mdr.de/nachrichten/ratgeber/neu-ab-oktober-auto-online-neu-zulassen-pflege-tuev-aenderungen-bei-ebay-100.html</id>\\n<updated>2019-09-30T11:36:01.100+02:00</updated>\\n<summary>Autos oder Motorr\\xc3\\xa4der k\\xc3\\xb6nnen k\\xc3\\xbcnftig auch online neu angemeldet werden. Au\\xc3\\x9ferdem soll ein Pflege-T\\xc3\\x9cV die Wahl eines Heims erleichtern, und eBay f\\xc3\\xbchrt neue Regeln ein. Die \\xc3\\x84nderungen ab Oktober im \\xc3\\x9cberblick.</summary>\\n</entry>\\n<entry>\\n<title>Zeitgeschichte: Die Tagesschau vor 20 Jahren</title>\\n<link href=\"http://www.tagesschau.de/inland/tsvorzwanzigjahren100.html\"/>\\n<id>http://www.tagesschau.de/inland/tsvorzwanzigjahren100.html</id>\\n<updated>2019-09-30T09:39:17.499+02:00</updated>\\n<summary>Wie sah die Welt vor 20 Jahren aus? Welche Themen bestimmten die politische Debatte? Wer war damals wichtig? Die Tagesschau bietet einen wertvollen Einblick in die j\\xc3\\xbcngere Zeitgeschichte. Tagesschau.de dokumentiert sie Tag f\\xc3\\xbcr Tag mit den 20-Uhr-Ausgaben.</summary>\\n</entry>\\n<entry>\\n<title>Tagesschau-Nachrichten im Messenger</title>\\n<link href=\"http://www.tagesschau.de/inland/messenger-109.html\"/>\\n<id>http://www.tagesschau.de/inland/messenger-109.html</id>\\n<updated>2019-08-24T21:01:02.808+02:00</updated>\\n<summary>Morgens und abends die wichtigsten Nachrichten im \\xc3\\x9cberblick, Eilmeldungen und das Top-Thema des Tages #kurzerkl\\xc3\\xa4rt: Das ist die Tagesschau im Messenger. Jetzt kostenlos abonnieren!</summary>\\n</entry>\\n<entry>\\n<title>BKA-Lagebild: Wie gef\\xc3\\xa4hrlich ist Organisierte Kriminalit\\xc3\\xa4t?</title>\\n<link href=\"http://www.tagesschau.de/faktenfinder/inland/bka-lagebild-ok-clans-101.html\"/>\\n<id>http://www.tagesschau.de/faktenfinder/inland/bka-lagebild-ok-clans-101.html</id>\\n<updated>2019-10-01T09:48:22.702+02:00</updated>\\n<summary>Das k\\xc3\\xbcrzlich vom BKA publizierte Lagebild \"Organisierte Kriminalit\\xc3\\xa4t\" gilt als ma\\xc3\\x9fgeblich zur Bestimmung des Ausma\\xc3\\x9fes und der Gefahr des Ph\\xc3\\xa4nomens. Doch die Aussagekraft ist begrenzt. Von Andrej Reisin.</summary>\\n</entry>\\n<entry>\\n<title>Bericht: Knapp 19 Milliarden Euro aus CO2-Bepreisung bis 2023</title>\\n<link href=\"http://www.tagesschau.de/inland/co2-bepreisung-einnahmen-bund-101.html\"/>\\n<id>http://www.tagesschau.de/inland/co2-bepreisung-einnahmen-bund-101.html</id>\\n<updated>2019-10-01T02:22:03.565+02:00</updated>\\n<summary>Die Bundesregierung erwartet von dem geplanten CO2-Preis laut einem Medienbericht Einnahmen in der H\\xc3\\xb6he von 18,8 Milliarden Euro bis zum Jahr 2023. Das Geld soll in den Klimaschutz und die Entlastung der B\\xc3\\xbcrger flie\\xc3\\x9fen.</summary>\\n</entry>\\n<entry>\\n<title>IG Metall beendet Verhandlungen zu 35-Stunden-Woche im Osten</title>\\n<link href=\"http://www.tagesschau.de/inland/ig-metall-osten-35-stunden-101.html\"/>\\n<id>http://www.tagesschau.de/inland/ig-metall-osten-35-stunden-101.html</id>\\n<updated>2019-10-01T01:17:36.291+02:00</updated>\\n<summary>Die IG Metall will die Arbeitszeiten in Ost und West angleichen. Doch die Verhandlungen, die 35-Stunden-Woche auch im Osten im Fl\\xc3\\xa4chentarifvertrag zu regeln, sind nun gescheitert - nicht zum ersten Mal.</summary>\\n</entry>\\n<entry>\\n<title>Maas w\\xc3\\xbcrdigt Rede: Das Verm\\xc3\\xa4chtnis von Genschers Halbsatz</title>\\n<link href=\"http://www.tagesschau.de/ausland/maas-in-prag-103.html\"/>\\n<id>http://www.tagesschau.de/ausland/maas-in-prag-103.html</id>\\n<updated>2019-09-30T22:04:01.633+02:00</updated>\\n<summary>Vor 30 Jahren ebnete der damalige Bundesau\\xc3\\x9fenminister Genscher Tausenden DDR-Fl\\xc3\\xbcchtlingen mit einem Halbsatz den Weg in die Freiheit. Der heutige Amtsinhaber Maas sprach in Prag nun von einem \"magischen Moment\".</summary>\\n</entry>\\n<entry>\\n<title>Mehrere Verletzte bei Br\\xc3\\xbcckeneinsturz in Taiwan</title>\\n<link href=\"http://www.tagesschau.de/ausland/taiwan-bruecke-101.html\"/>\\n<id>http://www.tagesschau.de/ausland/taiwan-bruecke-101.html</id>\\n<updated>2019-10-01T12:55:41.287+02:00</updated>\\n<summary>Beim Einsturz einer Br\\xc3\\xbccke in Taiwan sind mehrere Menschen verletzt worden. Rettungskr\\xc3\\xa4fte suchen in den Tr\\xc3\\xbcmmern nach weiteren Opfern. Die Ursache f\\xc3\\xbcr das Ungl\\xc3\\xbcck ist noch unklar.</summary>\\n</entry>\\n<entry>\\n<title>T\\xc3\\xb6dlicher Angriff in finnischer Berufsschule</title>\\n<link href=\"http://www.tagesschau.de/ausland/finnland-kuopio-101.html\"/>\\n<id>http://www.tagesschau.de/ausland/finnland-kuopio-101.html</id>\\n<updated>2019-10-01T15:05:31.347+02:00</updated>\\n<summary>Nahe der Stadt Kuopio in Finnland hat ein Mann die Sch\\xc3\\xbcler einer Berufsschulklasse angegriffen. Ein Mensch starb, weitere wurden verletzt. Das Motiv des Tatverd\\xc3\\xa4chtigen ist noch unklar.</summary>\\n</entry>\\n<entry>\\n<title>China feiert Jahrestag: Machtdemonstration zum 70.</title>\\n<link href=\"http://www.tagesschau.de/ausland/china-militaerparade-105.html\"/>\\n<id>http://www.tagesschau.de/ausland/china-militaerparade-105.html</id>\\n<updated>2019-10-01T11:39:31.210+02:00</updated>\\n<summary>15.000 Soldatinnen und Soldaten, Panzer und Raketen: Mit einer riesigen Milit\\xc3\\xa4rparade hat China den 70. Jahrestag der Gr\\xc3\\xbcndung der Volksrepublik gefeiert. Die KP tut alles, um den eigenen Machtanspruch zu sichern. Von Axel Dorloff.</summary>\\n</entry>\\n<entry>\\n<title>Streit um Richter: Machtkampf in Peru eskaliert</title>\\n<link href=\"http://www.tagesschau.de/ausland/staatskrise-peru-101.html\"/>\\n<id>http://www.tagesschau.de/ausland/staatskrise-peru-101.html</id>\\n<updated>2019-10-01T05:39:51.198+02:00</updated>\\n<summary>Im Streit um die Besetzung von Richterposten am peruanischen Verfassungsgericht hat Pr\\xc3\\xa4sident Vizcarra angek\\xc3\\xbcndigt, das Parlament aufzul\\xc3\\xb6sen. Dieses setzte ihn daraufhin postwendend ab.</summary>\\n</entry>\\n<entry>\\n<title>Gleichberechtigung Homosexueller - ein weltweiter \\xc3\\x9cberblick</title>\\n<link href=\"http://www.tagesschau.de/ausland/gleichgeschlechtliche-partnerschaften-101.html\"/>\\n<id>http://www.tagesschau.de/ausland/gleichgeschlechtliche-partnerschaften-101.html</id>\\n<updated>2019-10-01T03:01:41.326+02:00</updated>\\n<summary>D\\xc3\\xa4nemark war Vorreiter: Heute vor 30 Jahren wurde dort die erste \"Homo-Ehe\" der Welt geschlossen. Viele L\\xc3\\xa4nder zogen nach. In anderen kann schon ein Kuss ein M\\xc3\\xa4nnerpaar ins Gef\\xc3\\xa4ngnis bringen. Ein \\xc3\\x9cberblick von Holger Schwesinger.</summary>\\n</entry>\\n<entry>\\n<title>Post will noch mehr Milliarden verdienen</title>\\n<link href=\"http://www.tagesschau.de/wirtschaft/boerse/post-strategie-103.html\"/>\\n<id>http://www.tagesschau.de/wirtschaft/boerse/post-strategie-103.html</id>\\n<updated>2019-10-01T11:58:00.000+02:00</updated>\\n<summary>Nach dem Gewinneinbruch im vergangenen Jahr l\\xc3\\xa4uft\\'s f\\xc3\\xbcr die Deutsche Post wieder besser. 2019 will der Bonner Konzern \\xc3\\xbcber vier Milliarden Euro verdienen - auch dank der Porto-Erh\\xc3\\xb6hung. Die Anleger reagieren dennoch entt\\xc3\\xa4uscht.</summary>\\n</entry>\\n<entry>\\n<title>Wie Zalando Amazon die Stirn bieten will</title>\\n<link href=\"http://www.tagesschau.de/wirtschaft/boerse/zalando-133.html\"/>\\n<id>http://www.tagesschau.de/wirtschaft/boerse/zalando-133.html</id>\\n<updated>2019-10-01T06:45:00.000+02:00</updated>\\n<summary>Seit f\\xc3\\xbcnf Jahren ist Zalando an der B\\xc3\\xb6rse. Seitdem hat die Aktie kr\\xc3\\xa4ftig zugelegt. Und der Online-Bekleidungsh\\xc3\\xa4ndler ist weiter angriffslustig - und hat auch den Konkurrenten Amazon im Blick.</summary>\\n</entry>\\n<entry>\\n<title>Opern-Legende Jessye Norman gestorben</title>\\n<link href=\"http://www.tagesschau.de/ausland/jessye-norman-tod-101.html\"/>\\n<id>http://www.tagesschau.de/ausland/jessye-norman-tod-101.html</id>\\n<updated>2019-10-01T08:36:52.919+02:00</updated>\\n<summary>Mit ihrer schillernden Sopranstimme verz\\xc3\\xbcckte Jessye Norman \\xc3\\xbcber Jahrzehnte Opernfreunde in aller Welt. Ihre Karriere startete die auch als Jazzs\\xc3\\xa4ngerin erfolgreiche Musikerin in Deutschland. Nun ist sie mit 74 Jahren gestorben.</summary>\\n</entry>\\n</feed>'"
      ]
     },
     "execution_count": 20,
     "metadata": {},
     "output_type": "execute_result"
    }
   ],
   "source": [
    "rv.content"
   ]
  },
  {
   "cell_type": "code",
   "execution_count": 23,
   "metadata": {},
   "outputs": [],
   "source": [
    "import feedparser"
   ]
  },
  {
   "cell_type": "code",
   "execution_count": 24,
   "metadata": {},
   "outputs": [],
   "source": [
    "fp = feedparser.parse(url)"
   ]
  },
  {
   "cell_type": "code",
   "execution_count": 30,
   "metadata": {},
   "outputs": [
    {
     "data": {
      "text/plain": [
       "['Im Februar hatte Wirtschaftsminister Altmaier seine Industriestrategie vorgestellt - und den Mittelstand darin vergessen. Nun liefert er nach und verspricht: weniger Steuern, weniger Bürokratie. Die SPD ist skeptisch. Von Franka Welz.',\n",
       " 'Wohnen zur Miete wird immer teurer - vor allem in den großen Städten. Neue Mietverträge liegen dort bis zu 25 Prozent über dem Gesamtdurchschnitt. Besonders bedrohlich ist das für Mieter mit niedrigem Einkommen.',\n",
       " 'Die Ständige Impfkommission rät zum Schutz gegen insgesamt 13 Krankheiten in den ersten zwei Lebensjahren. Etwa die Hälfte der Kleinkinder hat laut Techniker-Krankenkasse jedoch Impflücken.',\n",
       " 'Die Krankenkassen haben den neuen Pflege-TÜV gestartet. Er soll Pflegebedürftigen und Angehörigen helfen, aussagekräftigere Heimbewertungen zu erhalten. Es gibt aber jetzt schon Kritik.',\n",
       " 'Eine bessere Bewertung von Pflegeheimen, ein wenig Wettbewerb - das kann der Pflege-TÜV aus Sicht von Vera Wolfskämpf bringen. Doch um Angehörigen wirklich eine Stütze zu sein, wäre noch mehr nötig.',\n",
       " 'Nahezu täglich kommen neue Details über die Ukraine-Affäre von Präsident Trump ans Licht - Ende offen. Der wehrt sich mit einer Flut wütender Tweets und einer immer schrilleren Wortwahl. Von Martina Buttler.',\n",
       " 'Erst die Ibiza-Affäre, dann auch noch Untreue-Vorwürfe. Nach dem schlechten Wahlergebnis erkennt die FPÖ in ihrem Ex-Parteichef Strache den Hauptschuldigen. Rausschmiss nicht ausgeschlossen.',\n",
       " 'Ex-FPÖ-Chef Strache hatte seine Suspendierung wohl kommen sehen und schon vorher das Ende seiner politischen Karriere verkündet. Doch dieser Rückzug, meint Srdjan Govedaric, muss nicht von Dauer sein.',\n",
       " 'In 30 Tagen wollen die Briten die EU verlassen. Premier Johnson will bald Vorschläge zur Vermeidung eines \"Backstop\" vorlegen. Nun werden erste Inhalte bekannt, Kritiker sprechen von einem Rohrkrepierer. Von Thomas Spickhofen.',\n",
       " 'Mehrere Protestaktionen in Hongkong sind in gewaltsame Zusammenstöße umgeschlagen. Ein Mann wurde laut Polizeiangaben angeschossen. Zahlreiche Demonstranten wurden festgenommen - am 70. Jahrestag Chinas.',\n",
       " 'China bekräftigt seinen globalen Machtanspruch. Gleichzeitig feiert es seine Geschichte, ohne diese wirklich und wahrhaftig zu erzählen, meint Axel Dorloff. Das ist gefährlich, wie die Lage in Hongkong zeigt.',\n",
       " 'Maßnahmen der Bundesregierung für mehr Umwelt- und Tierschutz sorgen für Unmut bei den Bauern. Sie fürchten finanzielle Einbußen und protestieren mit grünen Kreuzen auf ihren Feldern. Von Oda Lambrecht.',\n",
       " 'Tausende Landwirte in den Niederlanden sind wütend: Ihr Ansehen leidet, von der Politik fordern sie Respekt. An einem landesweiten Protest nahmen Tausende Bauern teil und sorgten für rund 1000 Kilometer Stau auf den Straßen.',\n",
       " 'Tonnenweise landen in Europa täglich Haushaltsgeräte auf dem Müll, auch weil sie schlecht zu reparieren sind. Das will die EU-Kommission jetzt per Vorschrift ändern. Verbraucherschützer sind erfreut. Von Holger Beckmann.',\n",
       " 'Im Opel-Stammwerk in Rüsselsheim droht Kurzarbeit. Das Unternehmen stellte einen entsprechenden Antrag. Betroffen wären 2600 Mitarbeiter. Erst ab 2021 wird die Belegschaft wieder mehr zu tun bekommen.',\n",
       " 'Viele Thomas-Cook-Kunden sind inzwischen aus dem Urlaub zurück - Tausende konnten ihre Reise gar nicht erst antreten. Und alle treibt die Frage um, ob die Versicherung die Kosten erstattet. Doch von der kommen schlechte Nachrichten.',\n",
       " 'Jedes Jahr gibt es in Europa zwei Kulturhauptstädte. 2025 kommt eine aus Slowenien - die andere aus Deutschland. Acht Städte haben sich beworben, fünf davon aus Ostdeutschland. tagesschau.de stellt die acht vor.',\n",
       " 'Die Monsunzeit in Indien ist eigentlich vorbei. Dennoch haben heftige Unwetter vor allem im Norden und Osten schwere Schäden angerichtet. Viele Orte stehen weiterhin großflächig unter Wasser. Von Silke Diettrich.',\n",
       " 'Die Lage im überfüllten Flüchtlingslager auf Lesbos ist zwei Tage nach dem Brand alles andere als ruhig. In einer ersten Reaktion lässt die Regierung Hunderte Migranten aufs Festland bringen. Von Michael Lehmann.',\n",
       " 'Sie dienen der Webseiten-Personalisierung, aber auch dem User-Tracking. Deshalb, so der EuGH, müssen Nutzer Internet-Cookies aktiv zustimmen. Ein voreingestelltes Ja sei unzulässig. Von Kerstin Anabah.',\n",
       " '\"Astro-Alex\" Gerst wird nicht nochmal zur ISS fliegen. Nächster Deutscher wird der Saarländer Matthias Maurer. Wann dieser allerdings ins All aufbrechen kann, ist noch unklar.',\n",
       " 'So groß wie London, 200 Meter dick und viele Milliarden Tonnen schwer - das ist der Eisberg D28. In der Antarktis ist er vom Amery-Schelfeis abgebrochen. Forscher sehen keinen Zusammenhang mit dem Klimawandel.',\n",
       " '',\n",
       " 'Autos oder Motorräder können künftig auch online neu angemeldet werden. Außerdem soll ein Pflege-TÜV die Wahl eines Heims erleichtern, und eBay führt neue Regeln ein. Die Änderungen ab Oktober im Überblick.',\n",
       " 'Wie sah die Welt vor 20 Jahren aus? Welche Themen bestimmten die politische Debatte? Wer war damals wichtig? Die Tagesschau bietet einen wertvollen Einblick in die jüngere Zeitgeschichte. Tagesschau.de dokumentiert sie Tag für Tag mit den 20-Uhr-Ausgaben.',\n",
       " 'Morgens und abends die wichtigsten Nachrichten im Überblick, Eilmeldungen und das Top-Thema des Tages #kurzerklärt: Das ist die Tagesschau im Messenger. Jetzt kostenlos abonnieren!',\n",
       " 'Das kürzlich vom BKA publizierte Lagebild \"Organisierte Kriminalität\" gilt als maßgeblich zur Bestimmung des Ausmaßes und der Gefahr des Phänomens. Doch die Aussagekraft ist begrenzt. Von Andrej Reisin.',\n",
       " 'Die Bundesregierung erwartet von dem geplanten CO2-Preis laut einem Medienbericht Einnahmen in der Höhe von 18,8 Milliarden Euro bis zum Jahr 2023. Das Geld soll in den Klimaschutz und die Entlastung der Bürger fließen.',\n",
       " 'Die IG Metall will die Arbeitszeiten in Ost und West angleichen. Doch die Verhandlungen, die 35-Stunden-Woche auch im Osten im Flächentarifvertrag zu regeln, sind nun gescheitert - nicht zum ersten Mal.',\n",
       " 'Vor 30 Jahren ebnete der damalige Bundesaußenminister Genscher Tausenden DDR-Flüchtlingen mit einem Halbsatz den Weg in die Freiheit. Der heutige Amtsinhaber Maas sprach in Prag nun von einem \"magischen Moment\".',\n",
       " 'Beim Einsturz einer Brücke in Taiwan sind mehrere Menschen verletzt worden. Rettungskräfte suchen in den Trümmern nach weiteren Opfern. Die Ursache für das Unglück ist noch unklar.',\n",
       " 'Nahe der Stadt Kuopio in Finnland hat ein Mann die Schüler einer Berufsschulklasse angegriffen. Ein Mensch starb, weitere wurden verletzt. Das Motiv des Tatverdächtigen ist noch unklar.',\n",
       " '15.000 Soldatinnen und Soldaten, Panzer und Raketen: Mit einer riesigen Militärparade hat China den 70. Jahrestag der Gründung der Volksrepublik gefeiert. Die KP tut alles, um den eigenen Machtanspruch zu sichern. Von Axel Dorloff.',\n",
       " 'Im Streit um die Besetzung von Richterposten am peruanischen Verfassungsgericht hat Präsident Vizcarra angekündigt, das Parlament aufzulösen. Dieses setzte ihn daraufhin postwendend ab.',\n",
       " 'Dänemark war Vorreiter: Heute vor 30 Jahren wurde dort die erste \"Homo-Ehe\" der Welt geschlossen. Viele Länder zogen nach. In anderen kann schon ein Kuss ein Männerpaar ins Gefängnis bringen. Ein Überblick von Holger Schwesinger.',\n",
       " \"Nach dem Gewinneinbruch im vergangenen Jahr läuft's für die Deutsche Post wieder besser. 2019 will der Bonner Konzern über vier Milliarden Euro verdienen - auch dank der Porto-Erhöhung. Die Anleger reagieren dennoch enttäuscht.\",\n",
       " 'Seit fünf Jahren ist Zalando an der Börse. Seitdem hat die Aktie kräftig zugelegt. Und der Online-Bekleidungshändler ist weiter angriffslustig - und hat auch den Konkurrenten Amazon im Blick.',\n",
       " 'Mit ihrer schillernden Sopranstimme verzückte Jessye Norman über Jahrzehnte Opernfreunde in aller Welt. Ihre Karriere startete die auch als Jazzsängerin erfolgreiche Musikerin in Deutschland. Nun ist sie mit 74 Jahren gestorben.']"
      ]
     },
     "execution_count": 30,
     "metadata": {},
     "output_type": "execute_result"
    }
   ],
   "source": [
    "[e[\"summary\"] for e in fp.entries]"
   ]
  },
  {
   "cell_type": "code",
   "execution_count": 83,
   "metadata": {},
   "outputs": [],
   "source": [
    "stat = {}\n",
    "for e in fp.entries:\n",
    "    sen = nlp(e[\"summary\"])\n",
    "    for p in sen:\n",
    "        if p.pos_ == \"NOUN\":\n",
    "            if p.lemma_ not in stat:\n",
    "                stat[p.lemma_] = 0\n",
    "            stat[p.lemma_] += 1"
   ]
  },
  {
   "cell_type": "code",
   "execution_count": 84,
   "metadata": {},
   "outputs": [],
   "source": [
    "t = [{\"n\": j, \"term\": i} for i, j in stat.items()]"
   ]
  },
  {
   "cell_type": "code",
   "execution_count": 66,
   "metadata": {},
   "outputs": [],
   "source": [
    "import pandas as pd"
   ]
  },
  {
   "cell_type": "code",
   "execution_count": 85,
   "metadata": {},
   "outputs": [],
   "source": [
    "df = pd.DataFrame(t)"
   ]
  },
  {
   "cell_type": "code",
   "execution_count": 86,
   "metadata": {},
   "outputs": [
    {
     "data": {
      "text/html": [
       "<div>\n",
       "<style scoped>\n",
       "    .dataframe tbody tr th:only-of-type {\n",
       "        vertical-align: middle;\n",
       "    }\n",
       "\n",
       "    .dataframe tbody tr th {\n",
       "        vertical-align: top;\n",
       "    }\n",
       "\n",
       "    .dataframe thead th {\n",
       "        text-align: right;\n",
       "    }\n",
       "</style>\n",
       "<table border=\"1\" class=\"dataframe\">\n",
       "  <thead>\n",
       "    <tr style=\"text-align: right;\">\n",
       "      <th></th>\n",
       "      <th>n</th>\n",
       "      <th>term</th>\n",
       "    </tr>\n",
       "  </thead>\n",
       "  <tbody>\n",
       "    <tr>\n",
       "      <td>17</td>\n",
       "      <td>12</td>\n",
       "      <td>Agentur</td>\n",
       "    </tr>\n",
       "    <tr>\n",
       "      <td>30</td>\n",
       "      <td>12</td>\n",
       "      <td>Unternehmen</td>\n",
       "    </tr>\n",
       "    <tr>\n",
       "      <td>287</td>\n",
       "      <td>10</td>\n",
       "      <td>Kampagne</td>\n",
       "    </tr>\n",
       "    <tr>\n",
       "      <td>204</td>\n",
       "      <td>8</td>\n",
       "      <td>Jahr</td>\n",
       "    </tr>\n",
       "    <tr>\n",
       "      <td>352</td>\n",
       "      <td>7</td>\n",
       "      <td>Kunde</td>\n",
       "    </tr>\n",
       "    <tr>\n",
       "      <td>...</td>\n",
       "      <td>...</td>\n",
       "      <td>...</td>\n",
       "    </tr>\n",
       "    <tr>\n",
       "      <td>164</td>\n",
       "      <td>1</td>\n",
       "      <td>Raiffeisenbanken</td>\n",
       "    </tr>\n",
       "    <tr>\n",
       "      <td>163</td>\n",
       "      <td>1</td>\n",
       "      <td>Werbeindustrie</td>\n",
       "    </tr>\n",
       "    <tr>\n",
       "      <td>162</td>\n",
       "      <td>1</td>\n",
       "      <td>Zentrale\"/</td>\n",
       "    </tr>\n",
       "    <tr>\n",
       "      <td>161</td>\n",
       "      <td>1</td>\n",
       "      <td>Folge</td>\n",
       "    </tr>\n",
       "    <tr>\n",
       "      <td>215</td>\n",
       "      <td>1</td>\n",
       "      <td>Einzelagenturen</td>\n",
       "    </tr>\n",
       "  </tbody>\n",
       "</table>\n",
       "<p>431 rows × 2 columns</p>\n",
       "</div>"
      ],
      "text/plain": [
       "      n              term\n",
       "17   12           Agentur\n",
       "30   12       Unternehmen\n",
       "287  10          Kampagne\n",
       "204   8              Jahr\n",
       "352   7             Kunde\n",
       "..   ..               ...\n",
       "164   1  Raiffeisenbanken\n",
       "163   1    Werbeindustrie\n",
       "162   1        Zentrale\"/\n",
       "161   1             Folge\n",
       "215   1   Einzelagenturen\n",
       "\n",
       "[431 rows x 2 columns]"
      ]
     },
     "execution_count": 86,
     "metadata": {},
     "output_type": "execute_result"
    }
   ],
   "source": [
    "df.sort_values(\"n\", ascending=False)"
   ]
  },
  {
   "cell_type": "code",
   "execution_count": 93,
   "metadata": {},
   "outputs": [],
   "source": [
    "def analyse(fp, kind=\"NOUN\"):\n",
    "    stat = {}\n",
    "    for e in fp.entries:\n",
    "        sen = nlp(e[\"summary\"])\n",
    "        for p in sen:\n",
    "            if p.pos_ == kind:\n",
    "                if p.lemma_ not in stat:\n",
    "                    stat[p.lemma_] = 0\n",
    "                stat[p.lemma_] += 1\n",
    "    t = [{\"n\": j, \"term\": i} for i, j in stat.items()]\n",
    "    df = pd.DataFrame(t)\n",
    "    return df.sort_values(\"n\", ascending=False)"
   ]
  },
  {
   "cell_type": "code",
   "execution_count": 96,
   "metadata": {},
   "outputs": [
    {
     "name": "stdout",
     "output_type": "stream",
     "text": [
      "      n                                               term\n",
      "7    22                                                neu\n",
      "139   7                                               groß\n",
      "141   7                                            deutsch\n",
      "2     6                                                  .\n",
      "3     5                                               erst\n",
      "65    5                                                gut\n",
      "70    4                                              erste\n",
      "24    4                                       Düsseldorfer\n",
      "51    4                                               neue\n",
      "35    4                                       mehrstufigen\n",
      "17    4                                             direkt\n",
      "31    3                                           Münchner\n",
      "80    3                                                 21\n",
      "101   3                                               früh\n",
      "108   3                                            wichtig\n",
      "122   3                                           neuesten\n",
      "131   2                                            traurig\n",
      "100   2                                          Hamburger\n",
      "42    2                                               lang\n",
      "107   2                                           gefangen\n",
      "103   2                                           bisherig\n",
      "135   2                                            künftig\n",
      "32    2                                             eigene\n",
      "46    2                                          weltweite\n",
      "120   2                                           alt=\"Das\n",
      "30    2                                          prominent\n",
      "129   2                                       preisgekrönt\n",
      "56    2                                           Berliner\n",
      "12    2                                              stark\n",
      "18    2                                      international\n",
      "148   2                                           deutlich\n",
      "13    2                                           digitale\n",
      "91    2                                              eigen\n",
      "15    2                                             erneut\n",
      "5     2                                             Großer\n",
      "140   2                                             modern\n",
      "94    2                                          deutschen\n",
      "90    1                                              ander\n",
      "92    1                                       gleichzeitig\n",
      "112   1                                           gedruckt\n",
      "111   1                                         title=\"Der\n",
      "113   1                                               weit\n",
      "114   1                                     hervorgegangen\n",
      "110   1                                         renommiert\n",
      "109   1                                            unruhig\n",
      "115   1                                         schwedisch\n",
      "93    1                                  alt=\"Globetrotter\n",
      "102   1                                              ganze\n",
      "106   1                                                top\n",
      "105   1                                         nachhaltig\n",
      "95    1                                        alt=\"Heiner\n",
      "104   1                                             gering\n",
      "96    1                                            ähnlich\n",
      "97    1                                              schön\n",
      "98    1                                          arbeitend\n",
      "99    1                                        strategisch\n",
      "0     1                                        ausgebildet\n",
      "126   1                                           gesunden\n",
      "116   1                                              Knapp\n",
      "117   1                                            Moderne\n",
      "153   1                                         entwickeln\n",
      "152   1                                          englische\n",
      "151   1                                              frech\n",
      "150   1                                     Agenturpartner\n",
      "149   1                                         satirische\n",
      "147   1                                   gleichberechtigt\n",
      "146   1                                      title=\"Heiner\n",
      "145   1                                               Rund\n",
      "144   1                                         offizielle\n",
      "143   1                                            doppeln\n",
      "142   1                                          personell\n",
      "138   1                                      alt=\"Thorsten\n",
      "137   1                                         regelmäßig\n",
      "136   1                                          vergangen\n",
      "134   1                                         Etathalter\n",
      "133   1                                        irgendeines\n",
      "132   1                                        verschieden\n",
      "130   1                                           alt=\"Ein\n",
      "128   1                                       beiderseitig\n",
      "127   1                                           alt=\"Der\n",
      "88    1                                           bedecken\n",
      "125   1                                     verantwortlich\n",
      "124   1                                             global\n",
      "123   1                                          malerisch\n",
      "121   1                                       überarbeitet\n",
      "119   1                                           alt=\"Die\n",
      "118   1                                         Bayreuther\n",
      "89    1                                            präsent\n",
      "77    1                                                 50\n",
      "87    1                                           besonder\n",
      "27    1                                       grundlegende\n",
      "47    1                                         europäisch\n",
      "45    1                                         title=\"Die\n",
      "44    1                                     internationale\n",
      "43    1                                            tätigen\n",
      "41    1                                              lässt\n",
      "40    1                                               heiß\n",
      "39    1                                      hochgezüchtet\n",
      "38    1                                          gestartet\n",
      "37    1                                          überholen\n",
      "36    1                                       entsprechend\n",
      "34    1                                            brisant\n",
      "33    1                                       vermeintlich\n",
      "29    1                                            gestrig\n",
      "28    1                                         schwindend\n",
      "26    1                                              auf\"/\n",
      "86    1                                          britische\n",
      "25    1                                           kreative\n",
      "23    1                                    alt=\"Sodastream\n",
      "22    1                                           sofortig\n",
      "21    1                                            langsam\n",
      "20    1                                          technisch\n",
      "19    1                                         umstritten\n",
      "16    1                                title=\"Globetrotter\n",
      "14    1                                        alt=\"Prenew\n",
      "11    1                                         alt=\"H-O-T\n",
      "10    1                                           werblich\n",
      "9     1                            nordrhein-westfälischen\n",
      "8     1                                            schnell\n",
      "6     1                                         bundesweit\n",
      "4     1                                      alt=\"Marianne\n",
      "48    1                                           sichtbar\n",
      "49    1                                           weltweit\n",
      "50    1                                            möglich\n",
      "52    1                                          weibliche\n",
      "85    1                                           Schwerer\n",
      "84    1                                               rein\n",
      "83    1                                           begonnen\n",
      "82    1                                    title=\"Thorsten\n",
      "81    1                                        title=\"LBBW\n",
      "79    1                                          offiziell\n",
      "78    1                                            richtig\n",
      "1     1                                           wachsend\n",
      "76    1                                               reif\n",
      "75    1                                       kommunikativ\n",
      "74    1                                            digital\n",
      "73    1                                            Künftig\n",
      "72    1                                         sonderlich\n",
      "71    1                                             gesund\n",
      "69    1  src=\"https://www.horizont.net/news/media/29/Ei...\n",
      "68    1                                               fest\n",
      "67    1                                           lebendig\n",
      "66    1                                          erwachsen\n",
      "64    1                                             frisch\n",
      "63    1                                                 27\n",
      "62    1                                       amerikanisch\n",
      "61    1                                        interaktive\n",
      "60    1                                          ikonische\n",
      "59    1                                        alt=\"Kinder\n",
      "58    1                                           Deutsche\n",
      "57    1                                       anschließend\n",
      "55    1                                          emotional\n",
      "54    1                                               jung\n",
      "53    1                                             vierte\n",
      "154   1                                                  1\n"
     ]
    }
   ],
   "source": [
    "url = \"https://www.horizont.net/news/feed/agenturen/\"\n",
    "fp = feedparser.parse(url)\n",
    "print(analyse(fp, \"ADJ\").to_string())"
   ]
  }
 ],
 "metadata": {
  "kernelspec": {
   "display_name": "Python 3",
   "language": "python",
   "name": "python3"
  },
  "language_info": {
   "codemirror_mode": {
    "name": "ipython",
    "version": 3
   },
   "file_extension": ".py",
   "mimetype": "text/x-python",
   "name": "python",
   "nbconvert_exporter": "python",
   "pygments_lexer": "ipython3",
   "version": "3.5.3"
  }
 },
 "nbformat": 4,
 "nbformat_minor": 2
}
